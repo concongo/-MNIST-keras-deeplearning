{
  "nbformat": 4,
  "nbformat_minor": 0,
  "metadata": {
    "kernelspec": {
      "display_name": "Python [conda env:taller]",
      "language": "python",
      "name": "conda-env-taller-py"
    },
    "language_info": {
      "codemirror_mode": {
        "name": "ipython",
        "version": 3
      },
      "file_extension": ".py",
      "mimetype": "text/x-python",
      "name": "python",
      "nbconvert_exporter": "python",
      "pygments_lexer": "ipython3",
      "version": "3.7.6"
    },
    "colab": {
      "name": "cuaderno3.ipynb",
      "provenance": [],
      "include_colab_link": true
    },
    "accelerator": "GPU"
  },
  "cells": [
    {
      "cell_type": "markdown",
      "metadata": {
        "id": "view-in-github",
        "colab_type": "text"
      },
      "source": [
        "<a href=\"https://colab.research.google.com/github/concongo/MNIST-keras-deeplearning/blob/master/cuaderno3.ipynb\" target=\"_parent\"><img src=\"https://colab.research.google.com/assets/colab-badge.svg\" alt=\"Open In Colab\"/></a>"
      ]
    },
    {
      "cell_type": "markdown",
      "metadata": {
        "id": "50eValR21UCi",
        "colab_type": "text"
      },
      "source": [
        "# Deep Learning"
      ]
    },
    {
      "cell_type": "markdown",
      "metadata": {
        "id": "ljSigTsH1UCk",
        "colab_type": "text"
      },
      "source": [
        "## Perceptrón multicapa"
      ]
    },
    {
      "cell_type": "markdown",
      "metadata": {
        "id": "qeIfjHkx1UCm",
        "colab_type": "text"
      },
      "source": [
        "### Ejercicio obligatorio: Perceptrón multicapa con una capa Dense"
      ]
    },
    {
      "cell_type": "markdown",
      "metadata": {
        "id": "UR6Jr9iA1UCn",
        "colab_type": "text"
      },
      "source": [
        "[Keras](https://keras.io/) es una librería Python de alto nivel para trabajar con redes neuronales artificiales. Para ello utiliza paquetes de cálculo numérico y simbólico como Theano, TensorFlow o CNTK, lo que evita al usuario tener que programar los algoritmos básicos en lenguajes de bajo nivel como C, C++ o CUDA. Definir una red neuronal básica en Keras es así de sencillo:"
      ]
    },
    {
      "cell_type": "code",
      "metadata": {
        "id": "ZsZZ8PgT1UCo",
        "colab_type": "code",
        "colab": {
          "base_uri": "https://localhost:8080/",
          "height": 34
        },
        "outputId": "b7661627-387b-47d5-cb36-42829486fe1a"
      },
      "source": [
        "from keras.layers import Dense, Activation\n",
        "from keras.models import Sequential\n",
        "\n",
        "model = Sequential([\n",
        "    Dense(32, activation='relu', input_shape=(784,)),\n",
        "    Dense(10, activation='softmax')\n",
        "])"
      ],
      "execution_count": 1,
      "outputs": [
        {
          "output_type": "stream",
          "text": [
            "Using TensorFlow backend.\n"
          ],
          "name": "stderr"
        }
      ]
    },
    {
      "cell_type": "markdown",
      "metadata": {
        "id": "Q6NPU1gQ1UCu",
        "colab_type": "text"
      },
      "source": [
        "A diferencia de Scikit-learn, esta es una librería específica para redes neuronales, pero también incluye algunas utilidades básicas para cargar datos como el dataset de [MNIST](http://yann.lecun.com/exdb/mnist/). Las imágenes de MNIST son de dígitos (de 0 a 9) manuscritos, en escala de grises (valores de 0 a 255) y de 28x28 (784) píxeles. El problema consiste en clasificar las imágenes en cada una de las 10 clases:"
      ]
    },
    {
      "cell_type": "code",
      "metadata": {
        "id": "BMk_w4SK1UCv",
        "colab_type": "code",
        "colab": {}
      },
      "source": [
        "from keras.datasets import mnist\n",
        "from keras.utils import to_categorical\n",
        "\n",
        "(x_train, y_train), (x_test, y_test) = mnist.load_data()\n",
        "x_train = x_train.reshape(60000, 784) / 255\n",
        "x_test = x_test.reshape(10000, 784) / 255\n",
        "x_train = x_train.astype('float32')\n",
        "x_test = x_test.astype('float32')\n",
        "y_train = to_categorical(y_train, num_classes=10)\n",
        "y_test = to_categorical(y_test, num_classes=10)"
      ],
      "execution_count": 0,
      "outputs": []
    },
    {
      "cell_type": "markdown",
      "metadata": {
        "id": "aDhxosvI1UCz",
        "colab_type": "text"
      },
      "source": [
        "Entrenar la red neuronal con los datos de train de MNIST y calcular las predicciones es también fácil:"
      ]
    },
    {
      "cell_type": "code",
      "metadata": {
        "id": "M3KCf5UX1UCz",
        "colab_type": "code",
        "colab": {
          "base_uri": "https://localhost:8080/",
          "height": 408
        },
        "outputId": "160c9514-6074-4c86-96a1-cd1247193d37"
      },
      "source": [
        "from keras.optimizers import SGD\n",
        "\n",
        "model.compile(loss='categorical_crossentropy',\n",
        "              optimizer=SGD(),\n",
        "              metrics=['accuracy'])\n",
        "\n",
        "history = model.fit(x_train, y_train, batch_size=10, epochs=10,\n",
        "                    verbose=1, validation_split=0.1)\n",
        "\n",
        "score = model.evaluate(x_test, y_test, verbose=0)\n",
        "print('Test loss:', score[0])\n",
        "print('Test accuracy:', score[1])"
      ],
      "execution_count": 4,
      "outputs": [
        {
          "output_type": "stream",
          "text": [
            "Train on 54000 samples, validate on 6000 samples\n",
            "Epoch 1/10\n",
            "54000/54000 [==============================] - 14s 259us/step - loss: 0.4887 - accuracy: 0.8681 - val_loss: 0.2457 - val_accuracy: 0.9322\n",
            "Epoch 2/10\n",
            "54000/54000 [==============================] - 12s 231us/step - loss: 0.2767 - accuracy: 0.9199 - val_loss: 0.2041 - val_accuracy: 0.9423\n",
            "Epoch 3/10\n",
            "54000/54000 [==============================] - 12s 230us/step - loss: 0.2350 - accuracy: 0.9333 - val_loss: 0.1795 - val_accuracy: 0.9515\n",
            "Epoch 4/10\n",
            "54000/54000 [==============================] - 12s 229us/step - loss: 0.2069 - accuracy: 0.9409 - val_loss: 0.1600 - val_accuracy: 0.9553\n",
            "Epoch 5/10\n",
            "54000/54000 [==============================] - 12s 228us/step - loss: 0.1858 - accuracy: 0.9468 - val_loss: 0.1493 - val_accuracy: 0.9600\n",
            "Epoch 6/10\n",
            "54000/54000 [==============================] - 12s 228us/step - loss: 0.1693 - accuracy: 0.9517 - val_loss: 0.1406 - val_accuracy: 0.9627\n",
            "Epoch 7/10\n",
            "54000/54000 [==============================] - 12s 227us/step - loss: 0.1556 - accuracy: 0.9557 - val_loss: 0.1325 - val_accuracy: 0.9645\n",
            "Epoch 8/10\n",
            "54000/54000 [==============================] - 12s 223us/step - loss: 0.1436 - accuracy: 0.9591 - val_loss: 0.1299 - val_accuracy: 0.9653\n",
            "Epoch 9/10\n",
            "54000/54000 [==============================] - 13s 232us/step - loss: 0.1348 - accuracy: 0.9613 - val_loss: 0.1237 - val_accuracy: 0.9660\n",
            "Epoch 10/10\n",
            "54000/54000 [==============================] - 12s 228us/step - loss: 0.1265 - accuracy: 0.9638 - val_loss: 0.1188 - val_accuracy: 0.9673\n",
            "Test loss: 0.1328852920230478\n",
            "Test accuracy: 0.9625999927520752\n"
          ],
          "name": "stdout"
        }
      ]
    },
    {
      "cell_type": "markdown",
      "metadata": {
        "id": "-b42BWPQ1UC2",
        "colab_type": "text"
      },
      "source": [
        "La accuracy en test no está mal, pero es muy mejorable. Prueba a crear una red neuronal con alguna capa densa más, entrénala durante más épocas y comprueba su accuracy en test:"
      ]
    },
    {
      "cell_type": "code",
      "metadata": {
        "id": "7wdo1Gqh1UC2",
        "colab_type": "code",
        "colab": {}
      },
      "source": [
        ""
      ],
      "execution_count": 0,
      "outputs": []
    },
    {
      "cell_type": "markdown",
      "metadata": {
        "id": "q1KJsQc91UC5",
        "colab_type": "text"
      },
      "source": [
        "## Red convolucional"
      ]
    },
    {
      "cell_type": "markdown",
      "metadata": {
        "id": "JTpzNt8u1UC5",
        "colab_type": "text"
      },
      "source": [
        "### Ejercicio obligatorio: red convolucional con una capa Conv2D y una capa Dense"
      ]
    },
    {
      "cell_type": "markdown",
      "metadata": {
        "id": "M_sTYLdg1UC6",
        "colab_type": "text"
      },
      "source": [
        "Como ya vimos en la teoría, las redes neuronales con capas convolucionales son especialmente potentes para procesamiento de imágenes. Estas capas se suelen colocar a la entrada de la red, seguidas de capas densas justo antes de la salida. Para poder aprovechar estas capas es necesario dejar las imágenes en su forma original 28x28:"
      ]
    },
    {
      "cell_type": "code",
      "metadata": {
        "id": "iORXeGaG1UC6",
        "colab_type": "code",
        "colab": {}
      },
      "source": [
        "from keras.datasets import mnist\n",
        "from keras.utils import to_categorical\n",
        "\n",
        "(x_train, y_train), (x_test, y_test) = mnist.load_data()\n",
        "x_train = x_train.reshape(60000, 28, 28, 1) / 255\n",
        "x_test = x_test.reshape(10000, 28, 28, 1) / 255\n",
        "x_train = x_train.astype('float32')\n",
        "x_test = x_test.astype('float32')\n",
        "y_train = to_categorical(y_train, num_classes=10)\n",
        "y_test = to_categorical(y_test, num_classes=10)"
      ],
      "execution_count": 0,
      "outputs": []
    },
    {
      "cell_type": "markdown",
      "metadata": {
        "id": "K7CTYR2Z1UC8",
        "colab_type": "text"
      },
      "source": [
        "Intenta crear una red neuronal con una capa [Conv2D](https://keras.io/layers/convolutional/#conv2d\n",
        ") y una capa [Dense](https://keras.io/layers/core/#dense\n",
        ") y repite el experimento anterior. Una indicación: entre la última capa convolucional y la primera densa debes usar una capa [Flatten](https://keras.io/layers/core/#flatten\n",
        "):"
      ]
    },
    {
      "cell_type": "code",
      "metadata": {
        "id": "tfmaW_Fq1UC9",
        "colab_type": "code",
        "colab": {}
      },
      "source": [
        ""
      ],
      "execution_count": 0,
      "outputs": []
    },
    {
      "cell_type": "markdown",
      "metadata": {
        "id": "voXMjyRF1UC_",
        "colab_type": "text"
      },
      "source": [
        "### Ejercicio opcional: red convolucional avanzada"
      ]
    },
    {
      "cell_type": "markdown",
      "metadata": {
        "id": "TQOiO0Jb1UC_",
        "colab_type": "text"
      },
      "source": [
        "Todavía es posible hacerlo mejor. Intenta entrenar y hacer el scoring con una red neuronal más compleja, intercalando varias capas convolucionales y de pooling (pista: un buen modelo es la red LeNet-5). Puedes probar también otros métodos de optimización (Adam, RMSProp, etc.), regularizaciones (L1, L2, Dropout). Intenta conseguir el mejor resultado posible:"
      ]
    },
    {
      "cell_type": "code",
      "metadata": {
        "id": "flB46SSe1UC_",
        "colab_type": "code",
        "colab": {}
      },
      "source": [
        ""
      ],
      "execution_count": 0,
      "outputs": []
    }
  ]
}